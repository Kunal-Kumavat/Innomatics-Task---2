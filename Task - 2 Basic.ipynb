{
 "cells": [
  {
   "cell_type": "markdown",
   "id": "2a33e62f",
   "metadata": {},
   "source": [
    "# Task 2 Basic"
   ]
  },
  {
   "cell_type": "markdown",
   "id": "2878dd6b",
   "metadata": {},
   "source": [
    "### No Idea"
   ]
  },
  {
   "cell_type": "code",
   "execution_count": null,
   "id": "42fcc633",
   "metadata": {},
   "outputs": [],
   "source": [
    "n, m = map(int, input().strip().split(' '))\n",
    "n_num = list(map(int, input().strip().split(' ')))\n",
    "    \n",
    "\n",
    "a = set(map(int, input().strip().split(' ')))\n",
    "b = set(map(int, input().strip().split(' ')))\n",
    "    \n",
    "counter = 0\n",
    "for i in n_num:\n",
    "    if i in a:\n",
    "        counter += 1\n",
    "    elif i in b:\n",
    "        counter -= 1\n",
    "            \n",
    "print(counter)"
   ]
  },
  {
   "cell_type": "markdown",
   "id": "3f398518",
   "metadata": {},
   "source": [
    "### List Comprehension"
   ]
  },
  {
   "cell_type": "code",
   "execution_count": null,
   "id": "893b8de1",
   "metadata": {},
   "outputs": [],
   "source": [
    "if __name__ == '__main__':\n",
    "    x = int(input())\n",
    "    y = int(input())\n",
    "    z = int(input())\n",
    "    n = int(input())\n",
    "    lst = []\n",
    "    '''\n",
    "    for i in range(x+1):\n",
    "        for j in range(y+1):\n",
    "            for k in range(z+1):\n",
    "                if i+j+k != n :\n",
    "                    lst.append([i,j,k])\n",
    "            else:\n",
    "                pass'''\n",
    "    lst = [[i,j,k] for i in range(x+1) for j in range(y+1) for k in range(z+1) if i+j+k != n]\n",
    "    print(lst)\n",
    "                    \n",
    "                    "
   ]
  },
  {
   "cell_type": "markdown",
   "id": "eef3a644",
   "metadata": {},
   "source": [
    "### Runner up score"
   ]
  },
  {
   "cell_type": "code",
   "execution_count": null,
   "id": "90323a1a",
   "metadata": {},
   "outputs": [],
   "source": [
    "if __name__ == '__main__':\n",
    "    n = int(input())\n",
    "    arr = map(int, input().split())\n",
    "    arr = set(arr)\n",
    "    arr.remove(max(arr))\n",
    "    print(max(arr))"
   ]
  },
  {
   "cell_type": "markdown",
   "id": "e7438709",
   "metadata": {},
   "source": [
    "### Nested List"
   ]
  },
  {
   "cell_type": "code",
   "execution_count": null,
   "id": "7a6b8033",
   "metadata": {},
   "outputs": [],
   "source": [
    "if __name__ == '__main__':\n",
    "    lst = []\n",
    "    scores = []\n",
    "    minimum = 0\n",
    "    for i in range(int(input())):\n",
    "        name = input()\n",
    "        score = float(input())\n",
    "        lst.append([name,score])\n",
    "        scores.append(score)\n",
    "        \n",
    "    scores.sort()\n",
    "    for i in scores:\n",
    "        if i != scores[0]:\n",
    "            minimum = i\n",
    "            break\n",
    "        \n",
    "    for i in reversed(lst):\n",
    "        if i[1] == minimum:\n",
    "            print(i[0])"
   ]
  },
  {
   "cell_type": "markdown",
   "id": "a79fddb4",
   "metadata": {},
   "source": [
    "### Find the percentage"
   ]
  },
  {
   "cell_type": "code",
   "execution_count": null,
   "id": "275bcd03",
   "metadata": {},
   "outputs": [],
   "source": [
    "if __name__ == '__main__':\n",
    "    n = int(input())\n",
    "    student_marks = {}\n",
    "    for _ in range(n):\n",
    "        name, *line = input().split()\n",
    "        scores = list(map(float, line))\n",
    "        student_marks[name] = scores\n",
    "    query_name = input()\n",
    "    marks = student_marks[query_name]\n",
    "    marks = sum(marks)/len(marks)\n",
    "    print(\"%.2f\" % marks)"
   ]
  },
  {
   "cell_type": "markdown",
   "id": "d5bb69fd",
   "metadata": {},
   "source": [
    "### Lists"
   ]
  },
  {
   "cell_type": "code",
   "execution_count": null,
   "id": "2c833251",
   "metadata": {},
   "outputs": [],
   "source": [
    "if __name__ == '__main__':\n",
    "    N = int(input())\n",
    "    arr = list()\n",
    "    for i in range(N):\n",
    "        inp = list(input().split())\n",
    "        if inp[0]=='insert':\n",
    "            arr.insert(int(inp[1]),int(inp[2]))\n",
    "        if inp[0]=='remove':\n",
    "            arr.remove(int(inp[1]))\n",
    "        if inp[0]=='append':\n",
    "            arr.append(int(inp[1]))\n",
    "        if inp[0]=='sort':\n",
    "            arr.sort()\n",
    "        if inp[0]=='pop':\n",
    "            arr.pop()\n",
    "        if inp[0]=='reverse':\n",
    "            arr.reverse()     \n",
    "        if inp[0]=='print':\n",
    "            print(arr)"
   ]
  },
  {
   "cell_type": "markdown",
   "id": "a552f3f5",
   "metadata": {},
   "source": [
    "### Tuple"
   ]
  },
  {
   "cell_type": "code",
   "execution_count": null,
   "id": "87272c03",
   "metadata": {},
   "outputs": [],
   "source": [
    "if __name__ == '__main__':\n",
    "    n = int(input())\n",
    "    integer_list = map(int, input().split())\n",
    "    tup = tuple(integer_list)\n",
    "    print(hash(tup))"
   ]
  },
  {
   "cell_type": "markdown",
   "id": "c730beb5",
   "metadata": {},
   "source": [
    "### Sets"
   ]
  },
  {
   "cell_type": "code",
   "execution_count": null,
   "id": "2ba6a208",
   "metadata": {},
   "outputs": [],
   "source": [
    "def average(array):\n",
    "    add = sum(set(array))\n",
    "    length = len(set(array))\n",
    "    opt = add/length\n",
    "    return opt\n",
    "\n",
    "if __name__ == '__main__':\n",
    "    n = int(input())\n",
    "    arr = list(map(int, input().split()))\n",
    "    result = average(arr)\n",
    "    print(result)"
   ]
  },
  {
   "cell_type": "markdown",
   "id": "8217a6e6",
   "metadata": {},
   "source": [
    "### Symmetric Difference"
   ]
  },
  {
   "cell_type": "code",
   "execution_count": null,
   "id": "3285493a",
   "metadata": {},
   "outputs": [],
   "source": [
    "# Enter your code here. Read input from STDIN. Print output to STDOUT\n",
    "def func(m_int,n_int):\n",
    "    \n",
    "    m_diff = m_int.difference(n_int)\n",
    "    n_diff = n_int.difference(m_int)\n",
    "    \n",
    "    opt = m_diff.union(n_diff)\n",
    "    for i in sorted(opt):\n",
    "        print(i)\n",
    "    \n",
    "    \n",
    "if __name__ == '__main__':\n",
    "    m = int(input())\n",
    "    m_int = set(map(int, input().split()))\n",
    "    n = int(input())\n",
    "    n_int = set(map(int, input().split()))\n",
    "    func(m_int, n_int)"
   ]
  },
  {
   "cell_type": "markdown",
   "id": "1af7716c",
   "metadata": {},
   "source": [
    "### set.add()"
   ]
  },
  {
   "cell_type": "code",
   "execution_count": null,
   "id": "7669cf6a",
   "metadata": {},
   "outputs": [],
   "source": [
    "n = int(input())\n",
    "s = set()\n",
    "for i in range(n):\n",
    "    s.add(input())\n",
    "print(len(s))    "
   ]
  },
  {
   "cell_type": "markdown",
   "id": "f382d0bd",
   "metadata": {},
   "source": [
    "### set discard , remove , pop"
   ]
  },
  {
   "cell_type": "code",
   "execution_count": null,
   "id": "49e8bfc5",
   "metadata": {},
   "outputs": [],
   "source": [
    "n = int(input())\n",
    "n_int = set(map(int,input().split()))\n",
    "num = int(input())\n",
    "for i in range(num):\n",
    "    ipt = input().split()\n",
    "    if ipt[0]==\"remove\":\n",
    "        n_int.remove(int(ipt[1]))\n",
    "    elif ipt[0]==\"discard\":\n",
    "        n_int.discard(int(ipt[1]))\n",
    "    else :\n",
    "        n_int.pop()\n",
    "print(sum(list(n_int)))"
   ]
  },
  {
   "cell_type": "markdown",
   "id": "9a6dcc3a",
   "metadata": {},
   "source": [
    "### set union"
   ]
  },
  {
   "cell_type": "code",
   "execution_count": null,
   "id": "7f6d617e",
   "metadata": {},
   "outputs": [],
   "source": [
    "a = int(input())\n",
    "A = set(input().split());\n",
    "b = int(input())\n",
    "B = set(input().split());\n",
    "u = A.union(B)\n",
    "print(len(u))"
   ]
  },
  {
   "cell_type": "markdown",
   "id": "c072650a",
   "metadata": {},
   "source": [
    "### set intersection"
   ]
  },
  {
   "cell_type": "code",
   "execution_count": null,
   "id": "20cab4ff",
   "metadata": {},
   "outputs": [],
   "source": [
    "a = int(input())\n",
    "A = set(input().split());\n",
    "b = int(input())\n",
    "B = set(input().split());\n",
    "u = A.intersection(B)\n",
    "print(len(u))"
   ]
  },
  {
   "cell_type": "markdown",
   "id": "d90a41d4",
   "metadata": {},
   "source": [
    "### set difference"
   ]
  },
  {
   "cell_type": "code",
   "execution_count": null,
   "id": "826b9f67",
   "metadata": {},
   "outputs": [],
   "source": [
    "a = int(input())\n",
    "A = set(input().split());\n",
    "b = int(input())\n",
    "B = set(input().split());\n",
    "u = A.difference(B)\n",
    "print(len(u))"
   ]
  },
  {
   "cell_type": "markdown",
   "id": "4f3130c3",
   "metadata": {},
   "source": [
    "### set symmetric_difference"
   ]
  },
  {
   "cell_type": "code",
   "execution_count": null,
   "id": "b25a294e",
   "metadata": {},
   "outputs": [],
   "source": [
    "a = int(input())\n",
    "A = set(input().split());\n",
    "b = int(input())\n",
    "B = set(input().split());\n",
    "u = A.symmetric_difference(B)\n",
    "print(len(u))"
   ]
  },
  {
   "cell_type": "markdown",
   "id": "f485ccda",
   "metadata": {},
   "source": [
    "### set mutation"
   ]
  },
  {
   "cell_type": "code",
   "execution_count": null,
   "id": "5db53259",
   "metadata": {},
   "outputs": [],
   "source": [
    "n = int(input())\n",
    "n_int = set(map(int, input().split()))\n",
    "N = int(input())\n",
    "\n",
    "for i in range(N):\n",
    "    ipt = input().split()\n",
    "    if ipt[0] == 'intersection_update':\n",
    "        Set = set(map(int, input().split()))\n",
    "        n_int.intersection_update(Set)\n",
    "    elif ipt[0] == 'update':\n",
    "        Set = set(map(int, input().split()))\n",
    "        n_int.update(Set)\n",
    "    elif ipt[0] == 'symmetric_difference_update':\n",
    "        Set = set(map(int, input().split()))\n",
    "        n_int.symmetric_difference_update(Set)\n",
    "    elif ipt[0] == 'difference_update':\n",
    "        Set = set(map(int, input().split()))\n",
    "        n_int.difference_update(Set)\n",
    "    else :\n",
    "        pass\n",
    "\n",
    "print(sum(n_int))"
   ]
  },
  {
   "cell_type": "markdown",
   "id": "dcad3e9c",
   "metadata": {},
   "source": [
    "### captain's room"
   ]
  },
  {
   "cell_type": "code",
   "execution_count": null,
   "id": "5967792e",
   "metadata": {},
   "outputs": [],
   "source": [
    "num = int(input())\n",
    "numbers = list(map(int, input().split()))\n",
    "Set = set(numbers)\n",
    "Sum = sum(numbers)\n",
    "val = sum(Set) * num\n",
    "room_no = (val - Sum) // (num-1)\n",
    "print(room_no)"
   ]
  },
  {
   "cell_type": "markdown",
   "id": "e2fc76c8",
   "metadata": {},
   "source": [
    "### check subset"
   ]
  },
  {
   "cell_type": "code",
   "execution_count": null,
   "id": "c3b15265",
   "metadata": {},
   "outputs": [],
   "source": [
    "test_cases = int(input())\n",
    "for i in range(test_cases):\n",
    "    a_num = int(input())\n",
    "    set_A = set(map(int, input().split()))\n",
    "    b_num = int(input())\n",
    "    set_B = set(map(int, input().split()))\n",
    "    \n",
    "    if set_A.issubset(set_B):\n",
    "        print(True)\n",
    "    else:\n",
    "        print(False)"
   ]
  },
  {
   "cell_type": "markdown",
   "id": "e94f6aec",
   "metadata": {},
   "source": [
    "### strict superset"
   ]
  },
  {
   "cell_type": "code",
   "execution_count": null,
   "id": "ced7f52e",
   "metadata": {},
   "outputs": [],
   "source": [
    "set_A = set(input().split())\n",
    "N = int(input())\n",
    "ans = True\n",
    "for i in range(N):\n",
    "    set_B = set(input().split())\n",
    "    if not set_B.issubset(set_A):\n",
    "        output = False\n",
    "    if len(set_B) >= len(set_A):\n",
    "        output = False\n",
    "\n",
    "print(output)"
   ]
  }
 ],
 "metadata": {
  "kernelspec": {
   "display_name": "Python 3 (ipykernel)",
   "language": "python",
   "name": "python3"
  },
  "language_info": {
   "codemirror_mode": {
    "name": "ipython",
    "version": 3
   },
   "file_extension": ".py",
   "mimetype": "text/x-python",
   "name": "python",
   "nbconvert_exporter": "python",
   "pygments_lexer": "ipython3",
   "version": "3.10.8"
  }
 },
 "nbformat": 4,
 "nbformat_minor": 5
}
